{
 "cells": [
  {
   "cell_type": "markdown",
   "id": "6a424b44",
   "metadata": {},
   "source": [
    "# Speech Understanding \n",
    "# Lecture 3: Python Syntax, Lists, and Tuples\n",
    "Based on Chapter 2: **Python Refresher** from https://nostarch.com/make-python-talk"
   ]
  },
  {
   "cell_type": "markdown",
   "id": "b3983e7c",
   "metadata": {},
   "source": [
    "### Mark Hasegawa-Johnson, KCGI"
   ]
  },
  {
   "cell_type": "markdown",
   "id": "ffa13a99",
   "metadata": {},
   "source": [
    "In this lecture, you will learn the basic command structures of python: conditional execution and loops.\n",
    "\n",
    "Then, you will learn about python's four main container types: strings, lists, dicts, and tuples.\n",
    "\n",
    "Finally, we'll talk about how to define and use functions and modules."
   ]
  },
  {
   "cell_type": "markdown",
   "id": "a638dcac",
   "metadata": {},
   "source": [
    "1. [Loops and Conditional Execution](#section1)\n",
    "1. [Lists and Tuples](#section3)\n",
    "1. [Homework](#homework)"
   ]
  },
  {
   "cell_type": "markdown",
   "id": "d07dde63",
   "metadata": {},
   "source": [
    "<a id=\"section1\"></a>"
   ]
  },
  {
   "cell_type": "markdown",
   "id": "2cc1f1a1",
   "metadata": {},
   "source": [
    "## Section 1: Loops and Conditional Execution"
   ]
  },
  {
   "cell_type": "markdown",
   "id": "c958c9dc",
   "metadata": {},
   "source": [
    "### 1.1 Conditional Execution\n",
    "\n",
    "Like most modern languages, python uses the commands `if`, `elif`, and `else` to do branching and conditional execution.\n",
    "\n",
    "There is no `case` statement in python.  You can do the same thing with a series of `if` and `elif` statements:\n"
   ]
  },
  {
   "cell_type": "code",
   "execution_count": 1,
   "id": "005827bc",
   "metadata": {},
   "outputs": [
    {
     "name": "stdout",
     "output_type": "stream",
     "text": [
      "x > 4\n",
      "this is always activated\n"
     ]
    }
   ],
   "source": [
    "x = 6\n",
    "\n",
    "if x > 10:\n",
    "    print(\"x > 10\")\n",
    "elif x > 4:\n",
    "    print(\"x > 4\")\n",
    "elif x > 0:\n",
    "    print(\"x > 0\")\n",
    "elif x > -6:\n",
    "    print(\"x > -6\")\n",
    "else:\n",
    "    print(\"else was activated\")\n",
    "    print(\"this is part of the else\")\n",
    "print(\"this is always activated\")\n"
   ]
  },
  {
   "cell_type": "markdown",
   "id": "054c56b8",
   "metadata": {},
   "source": [
    "Unlike most other languages, in python **whitespace matters**.\n",
    "* The `if` statement ends in a colon, then a newline.\n",
    "* The following statement needs to be indented by exactly four space.\n",
    "* Every succeeding statement that is indented is considered to be part of the same block.\n",
    "* When you return to top-level indentation, that means that the block is over.\n",
    "\n",
    "Consider the difference between the following two code blocks:"
   ]
  },
  {
   "cell_type": "code",
   "execution_count": 2,
   "id": "74e5fc20",
   "metadata": {},
   "outputs": [
    {
     "name": "stdout",
     "output_type": "stream",
     "text": [
      "This line is definitely not part of the if statement\n"
     ]
    }
   ],
   "source": [
    "if 4 > 5:\n",
    "    print(\"4>5!\")\n",
    "    print(\"Is this line part of the if statement?\")\n",
    "print(\"This line is definitely not part of the if statement\")"
   ]
  },
  {
   "cell_type": "code",
   "execution_count": 3,
   "id": "d8a6ce9d",
   "metadata": {},
   "outputs": [
    {
     "name": "stdout",
     "output_type": "stream",
     "text": [
      "Is this line part of the if statement?\n",
      "This line is definitely not part of the if statement\n"
     ]
    }
   ],
   "source": [
    "if 4 > 5:\n",
    "    print(\"4>5!\")\n",
    "print(\"Is this line part of the if statement?\")\n",
    "print(\"This line is definitely not part of the if statement\")"
   ]
  },
  {
   "cell_type": "markdown",
   "id": "c5cfe677",
   "metadata": {},
   "source": [
    "### 1.2 Loops\n",
    "\n",
    "Loops are used to do the same thing over and over again."
   ]
  },
  {
   "cell_type": "markdown",
   "id": "1ee8647d",
   "metadata": {},
   "source": [
    "#### 1.2.1 While Loops"
   ]
  },
  {
   "cell_type": "markdown",
   "id": "b166ce27",
   "metadata": {},
   "source": [
    "A `while` loop executes its content as long as the condition is satisfied:"
   ]
  },
  {
   "cell_type": "code",
   "execution_count": 4,
   "id": "832e9140",
   "metadata": {},
   "outputs": [
    {
     "name": "stdout",
     "output_type": "stream",
     "text": [
      "14\n",
      "12\n",
      "10\n",
      "8\n",
      "The loop ended, and now x ==  6\n"
     ]
    }
   ],
   "source": [
    "x = 14\n",
    "while x > 6:\n",
    "    print(x)\n",
    "    x = x-2\n",
    "print(\"The loop ended, and now x == \",x)"
   ]
  },
  {
   "cell_type": "markdown",
   "id": "e2962e63",
   "metadata": {},
   "source": [
    "#### 1.2.2  For Loops"
   ]
  },
  {
   "cell_type": "markdown",
   "id": "d00ff11c",
   "metadata": {},
   "source": [
    "A `for` loop does something a fixed number of times.  Its syntax is like this:"
   ]
  },
  {
   "cell_type": "code",
   "execution_count": 5,
   "id": "abb4823b",
   "metadata": {},
   "outputs": [
    {
     "name": "stdout",
     "output_type": "stream",
     "text": [
      "0\n",
      "1\n",
      "2\n"
     ]
    }
   ],
   "source": [
    "for x in range(3):\n",
    "    print(x)"
   ]
  },
  {
   "cell_type": "markdown",
   "id": "8193111d",
   "metadata": {},
   "source": [
    "Here are some things worth knowing:\n",
    "\n",
    "* `range` is actually a python function (you can type `help(range)` to learn more about it).  It returns a type of object called an `iterator`.\n",
    "* Notice that `range(x)` returns the sequence of integers starting at `0`, and ending at `x-1`.\n",
    "* `range(x,y)` returns the numbers from `x` to `y-1`\n",
    "* `range(x,y,s)` returns the numbers from `x` to `y-s` in steps of `s`"
   ]
  },
  {
   "cell_type": "code",
   "execution_count": 6,
   "id": "2cab054b",
   "metadata": {},
   "outputs": [
    {
     "name": "stdout",
     "output_type": "stream",
     "text": [
      "range(2, 5)\n"
     ]
    }
   ],
   "source": [
    "y = range(2,5)\n",
    "print(y)"
   ]
  },
  {
   "cell_type": "code",
   "execution_count": 7,
   "id": "2ffd3e38",
   "metadata": {},
   "outputs": [
    {
     "name": "stdout",
     "output_type": "stream",
     "text": [
      "2\n",
      "3\n",
      "4\n"
     ]
    }
   ],
   "source": [
    "for n in range(2,5):\n",
    "    print(n)"
   ]
  },
  {
   "cell_type": "code",
   "execution_count": 8,
   "id": "a138582e",
   "metadata": {},
   "outputs": [
    {
     "name": "stdout",
     "output_type": "stream",
     "text": [
      "14\n",
      "13\n",
      "12\n",
      "11\n",
      "10\n",
      "9\n"
     ]
    }
   ],
   "source": [
    "for n in range(14,8,-1):\n",
    "    print(n)"
   ]
  },
  {
   "cell_type": "markdown",
   "id": "93220633",
   "metadata": {},
   "source": [
    "Here's something else worth knowing:  The `range` function can be replaced by any other object that specifies a sequence.  For example, if you use a string, the `for` command will iterate through the letters of the string:"
   ]
  },
  {
   "cell_type": "code",
   "execution_count": 9,
   "id": "e01716c7",
   "metadata": {},
   "outputs": [
    {
     "name": "stdout",
     "output_type": "stream",
     "text": [
      "The next letter is  a\n",
      "The next letter is  b\n",
      "The next letter is  c\n",
      "The next letter is  d\n",
      "The next letter is  e\n",
      "The next letter is  f\n",
      "The next letter is  g\n"
     ]
    }
   ],
   "source": [
    "for c in \"abcdefg\":\n",
    "    print(\"The next letter is \",c)"
   ]
  },
  {
   "cell_type": "markdown",
   "id": "5f1cef4a",
   "metadata": {},
   "source": [
    "#### 2.2.2.3 Loops in Loops"
   ]
  },
  {
   "cell_type": "markdown",
   "id": "564707ab",
   "metadata": {},
   "source": [
    "You can put a loop inside another loop:"
   ]
  },
  {
   "cell_type": "code",
   "execution_count": 10,
   "id": "58da0a12",
   "metadata": {},
   "outputs": [
    {
     "name": "stdout",
     "output_type": "stream",
     "text": [
      "Outer loop is A , inner loop is 0\n",
      "Outer loop is A , inner loop is 1\n",
      "Outer loop is A , inner loop is 2\n",
      "Outer loop is B , inner loop is 0\n",
      "Outer loop is B , inner loop is 1\n",
      "Outer loop is B , inner loop is 2\n",
      "Outer loop is C , inner loop is 0\n",
      "Outer loop is C , inner loop is 1\n",
      "Outer loop is C , inner loop is 2\n"
     ]
    }
   ],
   "source": [
    "for c in 'ABC':\n",
    "    for n in range(3):\n",
    "        print(\"Outer loop is\",c,\", inner loop is\", n)"
   ]
  },
  {
   "cell_type": "markdown",
   "id": "7ecdf67d",
   "metadata": {},
   "source": [
    "#### 1.2.4  continue, break, pass"
   ]
  },
  {
   "cell_type": "markdown",
   "id": "c27bd6c9",
   "metadata": {},
   "source": [
    "The `continue` and `break` commands can change the order of a loop:\n",
    "\n",
    "* `continue` stops the current iteration of the loop, and goes to the next iteration\n",
    "* `break` stops the loop\n",
    "* `pass` does nothing!  It's just a placeholder."
   ]
  },
  {
   "cell_type": "code",
   "execution_count": 11,
   "id": "dad51402",
   "metadata": {},
   "outputs": [
    {
     "name": "stdout",
     "output_type": "stream",
     "text": [
      "0\n",
      "1\n",
      "2\n",
      "4\n",
      "5\n",
      "8\n",
      "9\n"
     ]
    }
   ],
   "source": [
    "for n in range(10):\n",
    "    if n==3 or n==6 or n==7:\n",
    "        continue   # When python sees this command, it skips to the next value of n\n",
    "    print(n)"
   ]
  },
  {
   "cell_type": "code",
   "execution_count": 12,
   "id": "49fd1ae4",
   "metadata": {},
   "outputs": [
    {
     "name": "stdout",
     "output_type": "stream",
     "text": [
      "0\n",
      "1\n",
      "2\n"
     ]
    }
   ],
   "source": [
    "for n in range(10):\n",
    "    if n==3 or n==6 or n==7:\n",
    "        break   # When python sees this command, it ends the loop\n",
    "    print(n)"
   ]
  },
  {
   "cell_type": "code",
   "execution_count": 26,
   "id": "338938a5",
   "metadata": {},
   "outputs": [
    {
     "name": "stdout",
     "output_type": "stream",
     "text": [
      "0\n",
      "1\n",
      "2\n",
      "3\n",
      "4\n",
      "5\n",
      "6\n",
      "7\n",
      "8\n",
      "9\n"
     ]
    }
   ],
   "source": [
    "for n in range(10):\n",
    "    if n==3 or n==6 or n==7:\n",
    "        pass   # When python sees this command, it does nothing at all!!\n",
    "    print(n)"
   ]
  },
  {
   "cell_type": "markdown",
   "id": "5786f392",
   "metadata": {},
   "source": [
    "<a id=\"section3\"></a>"
   ]
  },
  {
   "cell_type": "markdown",
   "id": "9cab4906",
   "metadata": {},
   "source": [
    "## 2: Lists and Tuples\n",
    "\n",
    "### 2.1 Create a list or tuple\n",
    "\n",
    "`list`s and `tuple`s, in python, are sequences of objects.  The objects can be of any type.\n",
    "\n",
    "There is a special syntax for creating `list`s and `tuple`s: \n",
    "* To create a `list`, we use the symbol `[` to start the list, and the symbol `]` to end it.\n",
    "* To create a `tuple`, we use the symbol `(` to start the typle, and the symbol `)` to end it."
   ]
  },
  {
   "cell_type": "code",
   "execution_count": 27,
   "id": "f1f91d88",
   "metadata": {},
   "outputs": [
    {
     "name": "stdout",
     "output_type": "stream",
     "text": [
      "[1, 2, 3, 'hello', 'world', True, True, False]\n",
      "(1, 2, 3, 'hello', 'world', True, True, False)\n"
     ]
    }
   ],
   "source": [
    "list1 = [ 1, 2, 3, \"hello\", \"world\", True, True, False ]\n",
    "print(list1)\n",
    "\n",
    "tuple1 = ( 1, 2, 3, \"hello\", \"world\", True, True, False )\n",
    "print(tuple1)"
   ]
  },
  {
   "cell_type": "markdown",
   "id": "a7ca52f4",
   "metadata": {},
   "source": [
    "You can also create lists and tuples in other ways.  For example, you can convert a string into either a list or a tuple:"
   ]
  },
  {
   "cell_type": "code",
   "execution_count": 28,
   "id": "9d3ee7b6",
   "metadata": {},
   "outputs": [
    {
     "name": "stdout",
     "output_type": "stream",
     "text": [
      "['T', 'h', 'i', 's', ' ', 'i', 's', ' ', 'a', ' ', 's', 't', 'r', 'i', 'n', 'g']\n",
      "('T', 'h', 'i', 's', ' ', 'i', 's', ' ', 'a', ' ', 's', 't', 'r', 'i', 'n', 'g')\n",
      "16\n"
     ]
    }
   ],
   "source": [
    "string2 = \"This is a string\"\n",
    "list2 = list(string2)\n",
    "tuple2 = tuple(string2)\n",
    "print(list2)\n",
    "print(tuple2)\n",
    "print(len(tuple2))"
   ]
  },
  {
   "cell_type": "markdown",
   "id": "43d90185",
   "metadata": {},
   "source": [
    "You can create an empty list or tuple using the syntax `[]` or `()`:"
   ]
  },
  {
   "cell_type": "code",
   "execution_count": 29,
   "id": "3c296389",
   "metadata": {},
   "outputs": [
    {
     "name": "stdout",
     "output_type": "stream",
     "text": [
      "The list  [] has a length of 0\n",
      "The tuple  () has a length of 0\n"
     ]
    }
   ],
   "source": [
    "empty_list = []\n",
    "empty_tuple = ()\n",
    "print(\"The list \", empty_list, \"has a length of\", len(empty_list))\n",
    "print(\"The tuple \", empty_tuple, \"has a length of\", len(empty_tuple))"
   ]
  },
  {
   "cell_type": "markdown",
   "id": "f783053c",
   "metadata": {},
   "source": [
    "### 2.2 Indexing a list or a tuple\n",
    "\n",
    "If you index a list or a tuple with a single integer, then you get the object at that place in the list or tuple:"
   ]
  },
  {
   "cell_type": "code",
   "execution_count": 30,
   "id": "f81db4bb",
   "metadata": {},
   "outputs": [
    {
     "name": "stdout",
     "output_type": "stream",
     "text": [
      "hello\n",
      "hello\n"
     ]
    }
   ],
   "source": [
    "print(list1[3])\n",
    "print(tuple1[3])"
   ]
  },
  {
   "cell_type": "markdown",
   "id": "867de418",
   "metadata": {},
   "source": [
    "If you slice a list or tuple, you get another list or tuple:"
   ]
  },
  {
   "cell_type": "code",
   "execution_count": 31,
   "id": "5329a008",
   "metadata": {},
   "outputs": [
    {
     "name": "stdout",
     "output_type": "stream",
     "text": [
      "[3, 'hello', 'world']\n",
      "(3, 'hello', 'world')\n"
     ]
    }
   ],
   "source": [
    "print(list1[2:5])\n",
    "print(tuple1[2:5])"
   ]
  },
  {
   "cell_type": "markdown",
   "id": "a3de7d74",
   "metadata": {},
   "source": [
    "**The difference between lists and tuples:**\n",
    "\n",
    "* You can change the contents of a list\n",
    "* You cannot change the contents of a tuple, after it has been created\n"
   ]
  },
  {
   "cell_type": "code",
   "execution_count": 32,
   "id": "bcb28dde",
   "metadata": {},
   "outputs": [
    {
     "name": "stdout",
     "output_type": "stream",
     "text": [
      "[1, 2, 3, 'hello', 'Kyoto', True, True, False]\n"
     ]
    }
   ],
   "source": [
    "list1[4] = \"Kyoto\"\n",
    "print(list1)"
   ]
  },
  {
   "cell_type": "code",
   "execution_count": 33,
   "id": "6489e792",
   "metadata": {},
   "outputs": [
    {
     "ename": "TypeError",
     "evalue": "'tuple' object does not support item assignment",
     "output_type": "error",
     "traceback": [
      "\u001b[0;31m---------------------------------------------------------------------------\u001b[0m",
      "\u001b[0;31mTypeError\u001b[0m                                 Traceback (most recent call last)",
      "Cell \u001b[0;32mIn[33], line 1\u001b[0m\n\u001b[0;32m----> 1\u001b[0m tuple1[\u001b[38;5;241m4\u001b[39m] \u001b[38;5;241m=\u001b[39m \u001b[38;5;124m\"\u001b[39m\u001b[38;5;124mKyoto\u001b[39m\u001b[38;5;124m\"\u001b[39m\n\u001b[1;32m      2\u001b[0m \u001b[38;5;28mprint\u001b[39m(tuple1)\n",
      "\u001b[0;31mTypeError\u001b[0m: 'tuple' object does not support item assignment"
     ]
    }
   ],
   "source": [
    "tuple1[4] = \"Kyoto\"\n",
    "print(tuple1)"
   ]
  },
  {
   "cell_type": "markdown",
   "id": "9e12a85d",
   "metadata": {},
   "source": [
    "### 2.3 Adding and Multiplying Lists or Tuples\n",
    "\n",
    "Adding or multiplying lists or tuples is the same as adding or multiplying strings:"
   ]
  },
  {
   "cell_type": "code",
   "execution_count": 34,
   "id": "3f1f9207",
   "metadata": {},
   "outputs": [
    {
     "name": "stdout",
     "output_type": "stream",
     "text": [
      "['hello', 'world', 'a', 'b', 'c']\n",
      "('hello', 'world', 'a', 'b', 'c')\n",
      "['a', 'b', 'c', 'a', 'b', 'c', 'a', 'b', 'c', 'a', 'b', 'c']\n",
      "('a', 'b', 'c', 'a', 'b', 'c')\n"
     ]
    }
   ],
   "source": [
    "list1 = ['hello', 'world']\n",
    "tuple1 = ('hello', 'world')\n",
    "\n",
    "list3 = ['a', 'b', 'c']\n",
    "tuple3 = ('a', 'b', 'c')\n",
    "\n",
    "print(list1+list3)\n",
    "print(tuple1 + tuple3)\n",
    "print(list3*4)\n",
    "print(tuple3*2)"
   ]
  },
  {
   "cell_type": "markdown",
   "id": "739e1a97",
   "metadata": {},
   "source": [
    "### 2.4 List Methods\n",
    "\n",
    "Lists and tuples are types of objects.  Since this is object-oriented programming, each type of object has particular methods that can be called on it.\n",
    "\n",
    "* List methods are here: https://docs.python.org/3/tutorial/datastructures.html\n",
    "\n",
    "Here are a few of the most useful ones:"
   ]
  },
  {
   "cell_type": "code",
   "execution_count": 35,
   "id": "3cc8aae0",
   "metadata": {},
   "outputs": [
    {
     "name": "stdout",
     "output_type": "stream",
     "text": [
      "0 hello\n",
      "1 world\n",
      "2 a\n",
      "3 b\n",
      "4 c\n",
      "5 a\n",
      "6 b\n",
      "7 c\n"
     ]
    }
   ],
   "source": [
    "for x, s in enumerate(list1+list3*2):\n",
    "    print(x,s)"
   ]
  },
  {
   "cell_type": "code",
   "execution_count": 36,
   "id": "68b453bc",
   "metadata": {},
   "outputs": [
    {
     "name": "stdout",
     "output_type": "stream",
     "text": [
      "['hello', 'world', 'a long string to put at the end'] has a length of 3\n",
      "The formerly empty list is now ['a', 'b', 'c'] and has a length of 3\n"
     ]
    }
   ],
   "source": [
    "list1 = ['hello', 'world']\n",
    "list1.append(\"a long string to put at the end\")\n",
    "print(list1, \"has a length of\", len(list1))\n",
    "\n",
    "empty_list = []\n",
    "empty_list.append(\"a\")\n",
    "empty_list.append(\"b\")\n",
    "empty_list.append(\"c\")\n",
    "print(\"The formerly empty list is now\", empty_list, \"and has a length of\", len(empty_list))"
   ]
  },
  {
   "cell_type": "code",
   "execution_count": 37,
   "id": "1979c634",
   "metadata": {},
   "outputs": [
    {
     "name": "stdout",
     "output_type": "stream",
     "text": [
      "['a', 'hello', 'is', 'sentence', 'this']\n"
     ]
    }
   ],
   "source": [
    "wordlist = ['hello', 'this', 'is', 'a', 'sentence']\n",
    "wordlist.sort()\n",
    "print(wordlist)"
   ]
  },
  {
   "cell_type": "code",
   "execution_count": 38,
   "id": "ee754082",
   "metadata": {},
   "outputs": [
    {
     "name": "stdout",
     "output_type": "stream",
     "text": [
      "the length of list1 is 3\n",
      "0 hello\n",
      "1 world\n",
      "2 a long string to put at the end\n"
     ]
    }
   ],
   "source": [
    "print(\"the length of list1 is\", len(list1))\n",
    "for n in range(len(list1)):\n",
    "    print(n, list1[n])"
   ]
  },
  {
   "cell_type": "markdown",
   "id": "8ad9ad00",
   "metadata": {},
   "source": [
    "<a id=\"homework\"></a>"
   ]
  },
  {
   "cell_type": "markdown",
   "id": "4e6b32d4",
   "metadata": {},
   "source": [
    "## Homework for Week 3"
   ]
  },
  {
   "cell_type": "markdown",
   "id": "7a9eeaa5",
   "metadata": {},
   "source": [
    "Homework will be graded on Github.com.\n",
    "\n",
    "In this directory, there is a file called `homework3.py`.  It contains 4 functions.  Each function has a complete docstring, but no content: instead of content, each function just has a single line with the do-nothing command `pass`.  In each function, replace the line `pass` with code that implements what the docstring says it should implement.\n"
   ]
  },
  {
   "cell_type": "markdown",
   "id": "cfdd19d7",
   "metadata": {},
   "source": [
    "## Homework Problem 3.1"
   ]
  },
  {
   "cell_type": "code",
   "execution_count": 4,
   "id": "c1361dec",
   "metadata": {},
   "outputs": [
    {
     "name": "stdout",
     "output_type": "stream",
     "text": [
      "Help on function cancellation in module homework3:\n",
      "\n",
      "cancellation(list, stop_word)\n",
      "    Copy elements one by one from input_list into output_list.\n",
      "    If one of the elements is equal to the stop_word, then stop the function,\n",
      "    and return what you have so far.\n",
      "\n"
     ]
    }
   ],
   "source": [
    "import homework3, importlib\n",
    "importlib.reload(homework3)\n",
    "help(homework3.cancellation)"
   ]
  },
  {
   "cell_type": "markdown",
   "id": "0da0f3b8",
   "metadata": {},
   "source": [
    "The function `cancellation(input_list, stop_word)` should create an empty list called `output_list`.  Then it should copy elements one by one from `input_list` into `output_list` (hint: use a for loop).  If one of the elements is equal to the `stop_word`, then you should stop the function, and return what you have so far (hint: you can use `break` for this.  There are also other ways to do it).\n",
    "\n",
    "Usage example:\n",
    "\n",
    "* `cancellation([3, 4, 5, 6, 7, 8], 2)` should return `[3, 4, 5, 6, 7, 8]`.\n",
    "* `cancellation([3, 4, 5, 6, 7, 8], 6)` should return `[3, 4, 5]`.\n",
    "* `cancellation([3.14, \"a\", True, \"b\", 7, -45.3], \"b\")` should return `[3.14, \"a\", True]`\n",
    "* `cancellation([\"a\", \"b\", \"c\"], \"a\")` should return `[]`\n",
    "* `cancellation([], \"a\")` should return `[]`\n",
    "\n",
    "Test your code here:\n"
   ]
  },
  {
   "cell_type": "code",
   "execution_count": 7,
   "id": "1d13dc5f",
   "metadata": {},
   "outputs": [
    {
     "name": "stdout",
     "output_type": "stream",
     "text": [
      "[3, 4, 5, 6, 7, 8]\n",
      "[3, 4, 5]\n",
      "[3.14, 'a', True]\n",
      "[]\n",
      "[]\n"
     ]
    }
   ],
   "source": [
    "import homework3, importlib\n",
    "importlib.reload(homework3)\n",
    "print(homework3.cancellation([3, 4, 5, 6, 7, 8], 2))\n",
    "print(homework3.cancellation([3, 4, 5, 6, 7, 8], 6))\n",
    "print(homework3.cancellation([3.14, \"a\", True, \"b\", 7, -45.3], \"b\") )\n",
    "print(homework3.cancellation([\"a\", \"b\", \"c\"], \"a\") )\n",
    "print(homework3.cancellation([], \"a\") )"
   ]
  },
  {
   "cell_type": "markdown",
   "id": "2bc43f17",
   "metadata": {},
   "source": [
    "### Homework Problem 3.2"
   ]
  },
  {
   "cell_type": "code",
   "execution_count": 10,
   "id": "6ce3a132",
   "metadata": {},
   "outputs": [
    {
     "name": "stdout",
     "output_type": "stream",
     "text": [
      "Help on function copy_all_but_skip_word in module homework3:\n",
      "\n",
      "copy_all_but_skip_word(input_list, skip_word)\n",
      "    This function should copy elements one by one from input_list into output_list.\n",
      "    If one of the elements is equal to the skip_word, then you should skip that element,\n",
      "    but keep checking all of the other elements.\n",
      "\n"
     ]
    }
   ],
   "source": [
    "importlib.reload(homework3)\n",
    "help(homework3.copy_all_but_skip_word)"
   ]
  },
  {
   "cell_type": "markdown",
   "id": "d8a2ce2e",
   "metadata": {},
   "source": [
    "Create a function called `copy_all_but_skip_word(input_list, skip_word)`.  Your function should create an empty list called `output_list`.  Then it should copy elements one by one from `input_list` into `output_list` (hint: use a for loop).  If one of the elements is equal to the `skip_word`, then you should skip that element, but keep checking all of the other elements. \n",
    "\n",
    "Usage example:\n",
    "\n",
    "* `copy_all_but_skip_word([3, 4, 5, 6, 7, 8, 3, 4, 5], 2)` should return `[3, 4, 5, 6, 7, 8, 3, 4, 5]`.\n",
    "* `copy_all_but_skip_word([3.14, 4, \"a\", 6, 7, \"b\", 3, 4, 5], 6)` should return `[3.14, 4, \"a\", 7, \"b\", 3, 4, 5]`.\n",
    "* `copy_all_but_skip_word([3, \"a\", 5, 6, 7, \"b\", 3, \"b\", 5], \"a\")` should return `[3, 5, 6, 7, \"b\", 3, 5]`.\n",
    "* `copy_all_but_skip_word([\"a\", \"a\", \"a\"], \"a\")` should return `[]`\n",
    "* `copy_all_but_skip_word([], \"a\")` should return `[]`\n",
    "\n",
    "Test your code here:"
   ]
  },
  {
   "cell_type": "code",
   "execution_count": 13,
   "id": "dbd444dd",
   "metadata": {},
   "outputs": [
    {
     "name": "stdout",
     "output_type": "stream",
     "text": [
      "[3, 4, 5, 6, 7, 8, 3, 4, 5]\n",
      "[3.14, 4, 'a', 7, 'b', 3, 4, 5]\n",
      "[3, 5, 6, 7, 'b', 3, 'b', 5]\n",
      "[]\n",
      "[]\n"
     ]
    }
   ],
   "source": [
    "import homework3, importlib\n",
    "importlib.reload(homework3)\n",
    "\n",
    "print(homework3.copy_all_but_skip_word([3, 4, 5, 6, 7, 8, 3, 4, 5], 2))\n",
    "print(homework3.copy_all_but_skip_word([3.14, 4, \"a\", 6, 7, \"b\", 3, 4, 5], 6))\n",
    "print(homework3.copy_all_but_skip_word([3, \"a\", 5, 6, 7, \"b\", 3, \"b\", 5], \"a\"))\n",
    "print(homework3.copy_all_but_skip_word([\"a\", \"a\", \"a\"], \"a\"))\n",
    "print(homework3.copy_all_but_skip_word([], \"a\") )\n"
   ]
  },
  {
   "cell_type": "markdown",
   "id": "ed43922e",
   "metadata": {},
   "source": [
    "### Homework Problem 3.3"
   ]
  },
  {
   "cell_type": "code",
   "execution_count": 16,
   "id": "a8456bf1",
   "metadata": {},
   "outputs": [
    {
     "name": "stdout",
     "output_type": "stream",
     "text": [
      "Help on function my_average in module homework3:\n",
      "\n",
      "my_average(input_list)\n",
      "    You may assume that `input_list` is a non-empty list, in which every element is a number.\n",
      "    Calculate the average value, and return it.\n",
      "\n"
     ]
    }
   ],
   "source": [
    "importlib.reload(homework3)\n",
    "help(homework3.my_average)"
   ]
  },
  {
   "cell_type": "markdown",
   "id": "197aa17d",
   "metadata": {},
   "source": [
    "Create a function called `my_average(input_list)`.  You may assume that `input_list` is a non-empty list, in which every element is a number.  Calculate the average value, and return it. \n",
    "\n",
    "Usage examples:\n",
    "\n",
    "* `my_average([84, 61, 99])` should return `81.333333333`\n",
    "* `my_average([ 0.31147488, -0.18365408,  0.27358631, 5])` should return `1.350351775289537`\n",
    "* `my_average([])` --- this case will never occur, so you need not address it\n",
    "* `my_average([1, 2.4, \"a\"]` --- this case will never occur, so you need not address it\n",
    "\n",
    "Warning: \n",
    "* This can be done without importing any modules, however...\n",
    "* If you want to import any modules in the [standard library](https://docs.python.org/3/library/) (e.g., [math](https://docs.python.org/3/library/math.html)), you may.\n",
    "* Please **do not use** `numpy`.  It will not be available on the autograder, so if you try to use it, your code will fail.\n",
    "* Don't use the word `sum` as the name of any of your variables; it is a reserved keyword.\n",
    "\n",
    "Test your code here:"
   ]
  },
  {
   "cell_type": "code",
   "execution_count": 19,
   "id": "00962b42",
   "metadata": {},
   "outputs": [
    {
     "name": "stdout",
     "output_type": "stream",
     "text": [
      "81.33333333333333\n",
      "1.3503517775\n"
     ]
    }
   ],
   "source": [
    "import homework3, importlib\n",
    "importlib.reload(homework3)\n",
    "\n",
    "print(homework3.my_average([84, 61, 99]))\n",
    "print(homework3.my_average([ 0.31147488, -0.18365408,  0.27358631, 5]))"
   ]
  },
  {
   "cell_type": "markdown",
   "id": "f8a173e1",
   "metadata": {},
   "source": [
    "### Receiving your grade\n",
    "\n",
    "In order to receive a grade for your homework, you need to:\n",
    "\n",
    "1. Run the following code block on your machine.  The result may list some errors, and then in the very last line, it will show a score.  That score (between 0% and 100%) is the grade you have earned so far.  If you want to earn a higher grade, please continue editing `homework3.py`, and then run this code block again.\n",
    "1. When you are happy with your score (e.g., when it reaches 100%), choose `File` $\\Rightarrow$ `Save and Checkpoint`.  Then use `GitHub Desktop` to commit and push your changes.\n",
    "1. Make sure that the 100% shows on your github repo on github.com.  If it doesn't, you will not receive credit."
   ]
  },
  {
   "cell_type": "code",
   "execution_count": 22,
   "id": "afd1f489",
   "metadata": {},
   "outputs": [
    {
     "name": "stderr",
     "output_type": "stream",
     "text": [
      "......\n",
      "----------------------------------------------------------------------\n",
      "Ran 6 tests in 0.002s\n",
      "\n",
      "OK\n",
      "......\n",
      "----------------------------------------------------------------------\n",
      "Ran 6 tests in 0.002s\n",
      "\n",
      "OK\n"
     ]
    },
    {
     "name": "stdout",
     "output_type": "stream",
     "text": [
      "6 successes out of 6 tests run\n",
      "Score: 100%\n",
      "6 successes out of 6 tests run\n",
      "Score: 100%\n"
     ]
    },
    {
     "data": {
      "text/plain": [
       "<module 'grade' from 'C:\\\\Users\\\\youli\\\\Documents\\\\GitHub\\\\intro_speech_understanding\\\\2024_fall\\\\lec03\\\\grade.py'>"
      ]
     },
     "execution_count": 22,
     "metadata": {},
     "output_type": "execute_result"
    }
   ],
   "source": [
    "import importlib, grade\n",
    "importlib.reload(grade)"
   ]
  },
  {
   "cell_type": "code",
   "execution_count": null,
   "id": "8f0e63c7",
   "metadata": {},
   "outputs": [],
   "source": []
  }
 ],
 "metadata": {
  "kernelspec": {
   "display_name": "Python 3 (ipykernel)",
   "language": "python",
   "name": "python3"
  },
  "language_info": {
   "codemirror_mode": {
    "name": "ipython",
    "version": 3
   },
   "file_extension": ".py",
   "mimetype": "text/x-python",
   "name": "python",
   "nbconvert_exporter": "python",
   "pygments_lexer": "ipython3",
   "version": "3.12.4"
  }
 },
 "nbformat": 4,
 "nbformat_minor": 5
}
